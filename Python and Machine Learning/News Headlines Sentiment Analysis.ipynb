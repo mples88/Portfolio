{
 "cells": [
  {
   "cell_type": "markdown",
   "id": "b26d3f84",
   "metadata": {},
   "source": [
    "# Sentiment Analysis\n",
    "\n",
    "Sentiment analysis, or in other words, opinion mining, is a technique used on the data in a text format to determine whether the data is positive, neutral or negative, which is often used by various businesses to gather information about customers needs and opinions about products or brands (MonkeyLearn, 2023)."
   ]
  },
  {
   "cell_type": "code",
   "execution_count": 1,
   "id": "70120d08",
   "metadata": {},
   "outputs": [],
   "source": [
    "import pandas as pd\n",
    "import matplotlib.pyplot as plt\n",
    "import seaborn as sns\n",
    "%matplotlib inline"
   ]
  },
  {
   "cell_type": "markdown",
   "id": "e154ee0d",
   "metadata": {},
   "source": [
    "#### Data overview, preparation and EDA.\n",
    "\n",
    "The dataset contains two columns, the first representing the date, and the second headline text, which most likely is newspaper or other news providers such as TV news headlines. "
   ]
  },
  {
   "cell_type": "code",
   "execution_count": 2,
   "id": "3d203b55",
   "metadata": {},
   "outputs": [],
   "source": [
    "data = pd.read_csv(\"abcnews-date-text.csv\")"
   ]
  },
  {
   "cell_type": "code",
   "execution_count": 3,
   "id": "9be05589",
   "metadata": {},
   "outputs": [
    {
     "data": {
      "text/html": [
       "<div>\n",
       "<style scoped>\n",
       "    .dataframe tbody tr th:only-of-type {\n",
       "        vertical-align: middle;\n",
       "    }\n",
       "\n",
       "    .dataframe tbody tr th {\n",
       "        vertical-align: top;\n",
       "    }\n",
       "\n",
       "    .dataframe thead th {\n",
       "        text-align: right;\n",
       "    }\n",
       "</style>\n",
       "<table border=\"1\" class=\"dataframe\">\n",
       "  <thead>\n",
       "    <tr style=\"text-align: right;\">\n",
       "      <th></th>\n",
       "      <th>publish_date</th>\n",
       "      <th>headline_text</th>\n",
       "    </tr>\n",
       "  </thead>\n",
       "  <tbody>\n",
       "    <tr>\n",
       "      <th>0</th>\n",
       "      <td>20030219</td>\n",
       "      <td>aba decides against community broadcasting lic...</td>\n",
       "    </tr>\n",
       "    <tr>\n",
       "      <th>1</th>\n",
       "      <td>20030219</td>\n",
       "      <td>act fire witnesses must be aware of defamation</td>\n",
       "    </tr>\n",
       "    <tr>\n",
       "      <th>2</th>\n",
       "      <td>20030219</td>\n",
       "      <td>a g calls for infrastructure protection summit</td>\n",
       "    </tr>\n",
       "    <tr>\n",
       "      <th>3</th>\n",
       "      <td>20030219</td>\n",
       "      <td>air nz staff in aust strike for pay rise</td>\n",
       "    </tr>\n",
       "    <tr>\n",
       "      <th>4</th>\n",
       "      <td>20030219</td>\n",
       "      <td>air nz strike to affect australian travellers</td>\n",
       "    </tr>\n",
       "    <tr>\n",
       "      <th>...</th>\n",
       "      <td>...</td>\n",
       "      <td>...</td>\n",
       "    </tr>\n",
       "    <tr>\n",
       "      <th>1244179</th>\n",
       "      <td>20211231</td>\n",
       "      <td>two aged care residents die as state records 2...</td>\n",
       "    </tr>\n",
       "    <tr>\n",
       "      <th>1244180</th>\n",
       "      <td>20211231</td>\n",
       "      <td>victoria records 5;919 new cases and seven deaths</td>\n",
       "    </tr>\n",
       "    <tr>\n",
       "      <th>1244181</th>\n",
       "      <td>20211231</td>\n",
       "      <td>wa delays adopting new close contact definition</td>\n",
       "    </tr>\n",
       "    <tr>\n",
       "      <th>1244182</th>\n",
       "      <td>20211231</td>\n",
       "      <td>western ringtail possums found badly dehydrate...</td>\n",
       "    </tr>\n",
       "    <tr>\n",
       "      <th>1244183</th>\n",
       "      <td>20211231</td>\n",
       "      <td>what makes you a close covid contact here are ...</td>\n",
       "    </tr>\n",
       "  </tbody>\n",
       "</table>\n",
       "<p>1244184 rows × 2 columns</p>\n",
       "</div>"
      ],
      "text/plain": [
       "         publish_date                                      headline_text\n",
       "0            20030219  aba decides against community broadcasting lic...\n",
       "1            20030219     act fire witnesses must be aware of defamation\n",
       "2            20030219     a g calls for infrastructure protection summit\n",
       "3            20030219           air nz staff in aust strike for pay rise\n",
       "4            20030219      air nz strike to affect australian travellers\n",
       "...               ...                                                ...\n",
       "1244179      20211231  two aged care residents die as state records 2...\n",
       "1244180      20211231  victoria records 5;919 new cases and seven deaths\n",
       "1244181      20211231    wa delays adopting new close contact definition\n",
       "1244182      20211231  western ringtail possums found badly dehydrate...\n",
       "1244183      20211231  what makes you a close covid contact here are ...\n",
       "\n",
       "[1244184 rows x 2 columns]"
      ]
     },
     "execution_count": 3,
     "metadata": {},
     "output_type": "execute_result"
    }
   ],
   "source": [
    "data"
   ]
  },
  {
   "cell_type": "code",
   "execution_count": 4,
   "id": "b11df5ec",
   "metadata": {},
   "outputs": [
    {
     "data": {
      "text/plain": [
       "(1244184, 2)"
      ]
     },
     "execution_count": 4,
     "metadata": {},
     "output_type": "execute_result"
    }
   ],
   "source": [
    "data.shape"
   ]
  },
  {
   "cell_type": "markdown",
   "id": "d3d0c5ae",
   "metadata": {},
   "source": [
    "#### Data exploration"
   ]
  },
  {
   "cell_type": "markdown",
   "id": "a8b93f83",
   "metadata": {},
   "source": [
    "The data set contains over 1.2 million news headlines. \n",
    "It is worth highlighting that some of the words are misspelt or missing letters."
   ]
  },
  {
   "cell_type": "code",
   "execution_count": 5,
   "id": "3c726e6b",
   "metadata": {},
   "outputs": [
    {
     "data": {
      "text/plain": [
       "0    aba decides against community broadcasting lic...\n",
       "1       act fire witnesses must be aware of defamation\n",
       "2       a g calls for infrastructure protection summit\n",
       "3             air nz staff in aust strike for pay rise\n",
       "4        air nz strike to affect australian travellers\n",
       "5                    ambitious olsson wins triple jump\n",
       "6           antic delighted with record breaking barca\n",
       "7    aussie qualifier stosur wastes four memphis match\n",
       "8         aust addresses un security council over iraq\n",
       "9           australia is locked into war timetable opp\n",
       "Name: headline_text, dtype: object"
      ]
     },
     "execution_count": 5,
     "metadata": {},
     "output_type": "execute_result"
    }
   ],
   "source": [
    "# data overview looks like there is world news headlines - some of words are misspeled\n",
    "data[\"headline_text\"][0:10]"
   ]
  },
  {
   "cell_type": "code",
   "execution_count": 6,
   "id": "6f08f823",
   "metadata": {},
   "outputs": [
    {
     "data": {
      "text/plain": [
       "'epa still trying to recover chemical clean up costs'"
      ]
     },
     "execution_count": 6,
     "metadata": {},
     "output_type": "execute_result"
    }
   ],
   "source": [
    "data[\"headline_text\"][45]"
   ]
  },
  {
   "cell_type": "markdown",
   "id": "d9d0660a",
   "metadata": {},
   "source": [
    "#### Word count\n",
    "\n",
    "The first task of the exploration will be a determination of word count per headline that will provide additional insights in the later stage of the analysis."
   ]
  },
  {
   "cell_type": "code",
   "execution_count": 7,
   "id": "c5fa1b79",
   "metadata": {},
   "outputs": [],
   "source": [
    "data[\"word_count\"] = data[\"headline_text\"].apply(lambda x: len(str(x).split(\" \")))"
   ]
  },
  {
   "cell_type": "code",
   "execution_count": 8,
   "id": "9e7f85b6",
   "metadata": {},
   "outputs": [
    {
     "data": {
      "text/html": [
       "<div>\n",
       "<style scoped>\n",
       "    .dataframe tbody tr th:only-of-type {\n",
       "        vertical-align: middle;\n",
       "    }\n",
       "\n",
       "    .dataframe tbody tr th {\n",
       "        vertical-align: top;\n",
       "    }\n",
       "\n",
       "    .dataframe thead th {\n",
       "        text-align: right;\n",
       "    }\n",
       "</style>\n",
       "<table border=\"1\" class=\"dataframe\">\n",
       "  <thead>\n",
       "    <tr style=\"text-align: right;\">\n",
       "      <th></th>\n",
       "      <th>publish_date</th>\n",
       "      <th>headline_text</th>\n",
       "      <th>word_count</th>\n",
       "    </tr>\n",
       "  </thead>\n",
       "  <tbody>\n",
       "    <tr>\n",
       "      <th>0</th>\n",
       "      <td>20030219</td>\n",
       "      <td>aba decides against community broadcasting lic...</td>\n",
       "      <td>6</td>\n",
       "    </tr>\n",
       "    <tr>\n",
       "      <th>1</th>\n",
       "      <td>20030219</td>\n",
       "      <td>act fire witnesses must be aware of defamation</td>\n",
       "      <td>8</td>\n",
       "    </tr>\n",
       "    <tr>\n",
       "      <th>2</th>\n",
       "      <td>20030219</td>\n",
       "      <td>a g calls for infrastructure protection summit</td>\n",
       "      <td>7</td>\n",
       "    </tr>\n",
       "    <tr>\n",
       "      <th>3</th>\n",
       "      <td>20030219</td>\n",
       "      <td>air nz staff in aust strike for pay rise</td>\n",
       "      <td>9</td>\n",
       "    </tr>\n",
       "    <tr>\n",
       "      <th>4</th>\n",
       "      <td>20030219</td>\n",
       "      <td>air nz strike to affect australian travellers</td>\n",
       "      <td>7</td>\n",
       "    </tr>\n",
       "  </tbody>\n",
       "</table>\n",
       "</div>"
      ],
      "text/plain": [
       "   publish_date                                      headline_text  word_count\n",
       "0      20030219  aba decides against community broadcasting lic...           6\n",
       "1      20030219     act fire witnesses must be aware of defamation           8\n",
       "2      20030219     a g calls for infrastructure protection summit           7\n",
       "3      20030219           air nz staff in aust strike for pay rise           9\n",
       "4      20030219      air nz strike to affect australian travellers           7"
      ]
     },
     "execution_count": 8,
     "metadata": {},
     "output_type": "execute_result"
    }
   ],
   "source": [
    "data.head()"
   ]
  },
  {
   "cell_type": "markdown",
   "id": "47253b16",
   "metadata": {},
   "source": [
    "#### Average number of words, characters ahnd numeric values.\n",
    "\n",
    "Another useful information could be the number of various characters in the text. That includes special characters, commas, spaces etc., including the average number of words used per headline text or if the text contains numeric values."
   ]
  },
  {
   "cell_type": "code",
   "execution_count": 9,
   "id": "8105cec6",
   "metadata": {},
   "outputs": [],
   "source": [
    "data[\"varchar_count\"] = data[\"headline_text\"].str.len() "
   ]
  },
  {
   "cell_type": "code",
   "execution_count": 10,
   "id": "bab92aa0",
   "metadata": {},
   "outputs": [],
   "source": [
    "# this function will return average number of words per news"
   ]
  },
  {
   "cell_type": "code",
   "execution_count": 11,
   "id": "8a3ff4a7",
   "metadata": {},
   "outputs": [],
   "source": [
    "def avg_word(sentence):\n",
    "  words = sentence.split()\n",
    "  return (sum(len(word) for word in words)/len(words))"
   ]
  },
  {
   "cell_type": "code",
   "execution_count": 12,
   "id": "efeaf1ca",
   "metadata": {},
   "outputs": [],
   "source": [
    "# applying the function above as a new column\n",
    "data[\"avg_word\"] = data[\"headline_text\"].apply(lambda x: avg_word(x))"
   ]
  },
  {
   "cell_type": "code",
   "execution_count": 13,
   "id": "2bb47c5f",
   "metadata": {},
   "outputs": [],
   "source": [
    "# does it contain numeric values??"
   ]
  },
  {
   "cell_type": "code",
   "execution_count": 14,
   "id": "6ffe7672",
   "metadata": {},
   "outputs": [
    {
     "data": {
      "text/html": [
       "<div>\n",
       "<style scoped>\n",
       "    .dataframe tbody tr th:only-of-type {\n",
       "        vertical-align: middle;\n",
       "    }\n",
       "\n",
       "    .dataframe tbody tr th {\n",
       "        vertical-align: top;\n",
       "    }\n",
       "\n",
       "    .dataframe thead th {\n",
       "        text-align: right;\n",
       "    }\n",
       "</style>\n",
       "<table border=\"1\" class=\"dataframe\">\n",
       "  <thead>\n",
       "    <tr style=\"text-align: right;\">\n",
       "      <th></th>\n",
       "      <th>publish_date</th>\n",
       "      <th>headline_text</th>\n",
       "      <th>word_count</th>\n",
       "      <th>varchar_count</th>\n",
       "      <th>avg_word</th>\n",
       "      <th>num_values</th>\n",
       "    </tr>\n",
       "  </thead>\n",
       "  <tbody>\n",
       "    <tr>\n",
       "      <th>0</th>\n",
       "      <td>20030219</td>\n",
       "      <td>aba decides against community broadcasting lic...</td>\n",
       "      <td>6</td>\n",
       "      <td>50</td>\n",
       "      <td>7.500000</td>\n",
       "      <td>0</td>\n",
       "    </tr>\n",
       "    <tr>\n",
       "      <th>1</th>\n",
       "      <td>20030219</td>\n",
       "      <td>act fire witnesses must be aware of defamation</td>\n",
       "      <td>8</td>\n",
       "      <td>46</td>\n",
       "      <td>4.875000</td>\n",
       "      <td>0</td>\n",
       "    </tr>\n",
       "    <tr>\n",
       "      <th>2</th>\n",
       "      <td>20030219</td>\n",
       "      <td>a g calls for infrastructure protection summit</td>\n",
       "      <td>7</td>\n",
       "      <td>46</td>\n",
       "      <td>5.714286</td>\n",
       "      <td>0</td>\n",
       "    </tr>\n",
       "    <tr>\n",
       "      <th>3</th>\n",
       "      <td>20030219</td>\n",
       "      <td>air nz staff in aust strike for pay rise</td>\n",
       "      <td>9</td>\n",
       "      <td>40</td>\n",
       "      <td>3.555556</td>\n",
       "      <td>0</td>\n",
       "    </tr>\n",
       "    <tr>\n",
       "      <th>4</th>\n",
       "      <td>20030219</td>\n",
       "      <td>air nz strike to affect australian travellers</td>\n",
       "      <td>7</td>\n",
       "      <td>45</td>\n",
       "      <td>5.571429</td>\n",
       "      <td>0</td>\n",
       "    </tr>\n",
       "  </tbody>\n",
       "</table>\n",
       "</div>"
      ],
      "text/plain": [
       "   publish_date                                      headline_text  \\\n",
       "0      20030219  aba decides against community broadcasting lic...   \n",
       "1      20030219     act fire witnesses must be aware of defamation   \n",
       "2      20030219     a g calls for infrastructure protection summit   \n",
       "3      20030219           air nz staff in aust strike for pay rise   \n",
       "4      20030219      air nz strike to affect australian travellers   \n",
       "\n",
       "   word_count  varchar_count  avg_word  num_values  \n",
       "0           6             50  7.500000           0  \n",
       "1           8             46  4.875000           0  \n",
       "2           7             46  5.714286           0  \n",
       "3           9             40  3.555556           0  \n",
       "4           7             45  5.571429           0  "
      ]
     },
     "execution_count": 14,
     "metadata": {},
     "output_type": "execute_result"
    }
   ],
   "source": [
    "data[\"num_values\"] = data[\"headline_text\"].apply(lambda x: len([x for x in x.split() if x.isdigit()]))\n",
    "data.head()"
   ]
  },
  {
   "cell_type": "code",
   "execution_count": 15,
   "id": "f65620ac",
   "metadata": {},
   "outputs": [
    {
     "data": {
      "text/html": [
       "<div>\n",
       "<style scoped>\n",
       "    .dataframe tbody tr th:only-of-type {\n",
       "        vertical-align: middle;\n",
       "    }\n",
       "\n",
       "    .dataframe tbody tr th {\n",
       "        vertical-align: top;\n",
       "    }\n",
       "\n",
       "    .dataframe thead th {\n",
       "        text-align: right;\n",
       "    }\n",
       "</style>\n",
       "<table border=\"1\" class=\"dataframe\">\n",
       "  <thead>\n",
       "    <tr style=\"text-align: right;\">\n",
       "      <th></th>\n",
       "      <th>publish_date</th>\n",
       "      <th>headline_text</th>\n",
       "      <th>word_count</th>\n",
       "      <th>varchar_count</th>\n",
       "      <th>avg_word</th>\n",
       "      <th>num_values</th>\n",
       "    </tr>\n",
       "  </thead>\n",
       "  <tbody>\n",
       "    <tr>\n",
       "      <th>10</th>\n",
       "      <td>20030219</td>\n",
       "      <td>australia to contribute 10 million in aid to iraq</td>\n",
       "      <td>9</td>\n",
       "      <td>49</td>\n",
       "      <td>4.555556</td>\n",
       "      <td>1</td>\n",
       "    </tr>\n",
       "    <tr>\n",
       "      <th>38</th>\n",
       "      <td>20030219</td>\n",
       "      <td>de villiers to learn fate on march 5</td>\n",
       "      <td>8</td>\n",
       "      <td>36</td>\n",
       "      <td>3.625000</td>\n",
       "      <td>1</td>\n",
       "    </tr>\n",
       "    <tr>\n",
       "      <th>42</th>\n",
       "      <td>20030219</td>\n",
       "      <td>dog mauls 18 month old toddler in nsw</td>\n",
       "      <td>8</td>\n",
       "      <td>37</td>\n",
       "      <td>3.750000</td>\n",
       "      <td>1</td>\n",
       "    </tr>\n",
       "    <tr>\n",
       "      <th>56</th>\n",
       "      <td>20030219</td>\n",
       "      <td>german court to give verdict on sept 11 accused</td>\n",
       "      <td>9</td>\n",
       "      <td>47</td>\n",
       "      <td>4.333333</td>\n",
       "      <td>1</td>\n",
       "    </tr>\n",
       "    <tr>\n",
       "      <th>84</th>\n",
       "      <td>20030219</td>\n",
       "      <td>korean subway fire 314 still missing</td>\n",
       "      <td>6</td>\n",
       "      <td>36</td>\n",
       "      <td>5.166667</td>\n",
       "      <td>1</td>\n",
       "    </tr>\n",
       "    <tr>\n",
       "      <th>...</th>\n",
       "      <td>...</td>\n",
       "      <td>...</td>\n",
       "      <td>...</td>\n",
       "      <td>...</td>\n",
       "      <td>...</td>\n",
       "      <td>...</td>\n",
       "    </tr>\n",
       "    <tr>\n",
       "      <th>1244170</th>\n",
       "      <td>20211231</td>\n",
       "      <td>record case numbers of covid 19 in nsw and vic...</td>\n",
       "      <td>10</td>\n",
       "      <td>51</td>\n",
       "      <td>4.200000</td>\n",
       "      <td>1</td>\n",
       "    </tr>\n",
       "    <tr>\n",
       "      <th>1244171</th>\n",
       "      <td>20211231</td>\n",
       "      <td>record covid 19 numbers in nsw victoria and tas</td>\n",
       "      <td>9</td>\n",
       "      <td>47</td>\n",
       "      <td>4.333333</td>\n",
       "      <td>1</td>\n",
       "    </tr>\n",
       "    <tr>\n",
       "      <th>1244173</th>\n",
       "      <td>20211231</td>\n",
       "      <td>sane australia ceos advice on dealing with cov...</td>\n",
       "      <td>9</td>\n",
       "      <td>51</td>\n",
       "      <td>4.777778</td>\n",
       "      <td>1</td>\n",
       "    </tr>\n",
       "    <tr>\n",
       "      <th>1244175</th>\n",
       "      <td>20211231</td>\n",
       "      <td>take a look back at the major news stories of ...</td>\n",
       "      <td>11</td>\n",
       "      <td>50</td>\n",
       "      <td>3.636364</td>\n",
       "      <td>1</td>\n",
       "    </tr>\n",
       "    <tr>\n",
       "      <th>1244176</th>\n",
       "      <td>20211231</td>\n",
       "      <td>taking a look back at the key moments of 2021</td>\n",
       "      <td>10</td>\n",
       "      <td>45</td>\n",
       "      <td>3.600000</td>\n",
       "      <td>1</td>\n",
       "    </tr>\n",
       "  </tbody>\n",
       "</table>\n",
       "<p>65440 rows × 6 columns</p>\n",
       "</div>"
      ],
      "text/plain": [
       "         publish_date                                      headline_text  \\\n",
       "10           20030219  australia to contribute 10 million in aid to iraq   \n",
       "38           20030219               de villiers to learn fate on march 5   \n",
       "42           20030219              dog mauls 18 month old toddler in nsw   \n",
       "56           20030219    german court to give verdict on sept 11 accused   \n",
       "84           20030219               korean subway fire 314 still missing   \n",
       "...               ...                                                ...   \n",
       "1244170      20211231  record case numbers of covid 19 in nsw and vic...   \n",
       "1244171      20211231    record covid 19 numbers in nsw victoria and tas   \n",
       "1244173      20211231  sane australia ceos advice on dealing with cov...   \n",
       "1244175      20211231  take a look back at the major news stories of ...   \n",
       "1244176      20211231      taking a look back at the key moments of 2021   \n",
       "\n",
       "         word_count  varchar_count  avg_word  num_values  \n",
       "10                9             49  4.555556           1  \n",
       "38                8             36  3.625000           1  \n",
       "42                8             37  3.750000           1  \n",
       "56                9             47  4.333333           1  \n",
       "84                6             36  5.166667           1  \n",
       "...             ...            ...       ...         ...  \n",
       "1244170          10             51  4.200000           1  \n",
       "1244171           9             47  4.333333           1  \n",
       "1244173           9             51  4.777778           1  \n",
       "1244175          11             50  3.636364           1  \n",
       "1244176          10             45  3.600000           1  \n",
       "\n",
       "[65440 rows x 6 columns]"
      ]
     },
     "execution_count": 15,
     "metadata": {},
     "output_type": "execute_result"
    }
   ],
   "source": [
    "data[data[\"num_values\"] > 0]"
   ]
  },
  {
   "cell_type": "markdown",
   "id": "dc22bfd1",
   "metadata": {},
   "source": [
    "#### Remove of numeric values\n",
    "\n",
    "As numeric values are not important in current sentiment analysis, therefore, numbers have been removed from the headlines using the function below to keep the text clean and consistent."
   ]
  },
  {
   "cell_type": "code",
   "execution_count": 16,
   "id": "4b830c6b",
   "metadata": {},
   "outputs": [],
   "source": [
    "data[\"headline_text\"] = data[\"headline_text\"].apply(lambda x: ''.join((x for x in x if not x.isdigit())))"
   ]
  },
  {
   "cell_type": "code",
   "execution_count": 17,
   "id": "21ea2418",
   "metadata": {},
   "outputs": [
    {
     "data": {
      "text/plain": [
       "'victoria records ; new cases and seven deaths'"
      ]
     },
     "execution_count": 17,
     "metadata": {},
     "output_type": "execute_result"
    }
   ],
   "source": [
    "data[\"headline_text\"][1244180]"
   ]
  },
  {
   "cell_type": "markdown",
   "id": "3e8c87ac",
   "metadata": {},
   "source": [
    "#### Stopwords\n",
    "\n",
    "In order to keep only important information that will provide sentiment values, it is important to remove stop words from the text which provide low-level information. Examples of stop words in the English language are: “the”, “a”, “an”, and “in\"."
   ]
  },
  {
   "cell_type": "code",
   "execution_count": 18,
   "id": "f773e5bc",
   "metadata": {},
   "outputs": [
    {
     "name": "stderr",
     "output_type": "stream",
     "text": [
      "[nltk_data] Downloading package stopwords to\n",
      "[nltk_data]     C:\\Users\\Admin\\AppData\\Roaming\\nltk_data...\n",
      "[nltk_data]   Package stopwords is already up-to-date!\n"
     ]
    },
    {
     "data": {
      "text/plain": [
       "True"
      ]
     },
     "execution_count": 18,
     "metadata": {},
     "output_type": "execute_result"
    }
   ],
   "source": [
    "import nltk\n",
    "nltk.download('stopwords')"
   ]
  },
  {
   "cell_type": "code",
   "execution_count": 19,
   "id": "56315335",
   "metadata": {},
   "outputs": [],
   "source": [
    "# this librirary specifies what language I want to use including collection of words\n",
    "from nltk.corpus import stopwords\n",
    "stop = stopwords.words('english')"
   ]
  },
  {
   "cell_type": "markdown",
   "id": "205bceae",
   "metadata": {},
   "source": [
    "#### Number of stopwords per textline\n",
    "\n",
    "For further analysis, the number of stop words could be helpful; therefore stop words column has been created."
   ]
  },
  {
   "cell_type": "code",
   "execution_count": 20,
   "id": "3cc0556c",
   "metadata": {},
   "outputs": [],
   "source": [
    "data[\"stopwords\"] = data[\"headline_text\"].apply(lambda x: len([x for x in x.split() if x in stop]))\n"
   ]
  },
  {
   "cell_type": "code",
   "execution_count": 21,
   "id": "e63d24d6",
   "metadata": {},
   "outputs": [
    {
     "data": {
      "text/html": [
       "<div>\n",
       "<style scoped>\n",
       "    .dataframe tbody tr th:only-of-type {\n",
       "        vertical-align: middle;\n",
       "    }\n",
       "\n",
       "    .dataframe tbody tr th {\n",
       "        vertical-align: top;\n",
       "    }\n",
       "\n",
       "    .dataframe thead th {\n",
       "        text-align: right;\n",
       "    }\n",
       "</style>\n",
       "<table border=\"1\" class=\"dataframe\">\n",
       "  <thead>\n",
       "    <tr style=\"text-align: right;\">\n",
       "      <th></th>\n",
       "      <th>publish_date</th>\n",
       "      <th>headline_text</th>\n",
       "      <th>word_count</th>\n",
       "      <th>varchar_count</th>\n",
       "      <th>avg_word</th>\n",
       "      <th>num_values</th>\n",
       "      <th>stopwords</th>\n",
       "    </tr>\n",
       "  </thead>\n",
       "  <tbody>\n",
       "    <tr>\n",
       "      <th>0</th>\n",
       "      <td>20030219</td>\n",
       "      <td>aba decides against community broadcasting lic...</td>\n",
       "      <td>6</td>\n",
       "      <td>50</td>\n",
       "      <td>7.500000</td>\n",
       "      <td>0</td>\n",
       "      <td>1</td>\n",
       "    </tr>\n",
       "    <tr>\n",
       "      <th>1</th>\n",
       "      <td>20030219</td>\n",
       "      <td>act fire witnesses must be aware of defamation</td>\n",
       "      <td>8</td>\n",
       "      <td>46</td>\n",
       "      <td>4.875000</td>\n",
       "      <td>0</td>\n",
       "      <td>2</td>\n",
       "    </tr>\n",
       "    <tr>\n",
       "      <th>2</th>\n",
       "      <td>20030219</td>\n",
       "      <td>a g calls for infrastructure protection summit</td>\n",
       "      <td>7</td>\n",
       "      <td>46</td>\n",
       "      <td>5.714286</td>\n",
       "      <td>0</td>\n",
       "      <td>2</td>\n",
       "    </tr>\n",
       "    <tr>\n",
       "      <th>3</th>\n",
       "      <td>20030219</td>\n",
       "      <td>air nz staff in aust strike for pay rise</td>\n",
       "      <td>9</td>\n",
       "      <td>40</td>\n",
       "      <td>3.555556</td>\n",
       "      <td>0</td>\n",
       "      <td>2</td>\n",
       "    </tr>\n",
       "    <tr>\n",
       "      <th>4</th>\n",
       "      <td>20030219</td>\n",
       "      <td>air nz strike to affect australian travellers</td>\n",
       "      <td>7</td>\n",
       "      <td>45</td>\n",
       "      <td>5.571429</td>\n",
       "      <td>0</td>\n",
       "      <td>1</td>\n",
       "    </tr>\n",
       "  </tbody>\n",
       "</table>\n",
       "</div>"
      ],
      "text/plain": [
       "   publish_date                                      headline_text  \\\n",
       "0      20030219  aba decides against community broadcasting lic...   \n",
       "1      20030219     act fire witnesses must be aware of defamation   \n",
       "2      20030219     a g calls for infrastructure protection summit   \n",
       "3      20030219           air nz staff in aust strike for pay rise   \n",
       "4      20030219      air nz strike to affect australian travellers   \n",
       "\n",
       "   word_count  varchar_count  avg_word  num_values  stopwords  \n",
       "0           6             50  7.500000           0          1  \n",
       "1           8             46  4.875000           0          2  \n",
       "2           7             46  5.714286           0          2  \n",
       "3           9             40  3.555556           0          2  \n",
       "4           7             45  5.571429           0          1  "
      ]
     },
     "execution_count": 21,
     "metadata": {},
     "output_type": "execute_result"
    }
   ],
   "source": [
    "data.head()"
   ]
  },
  {
   "cell_type": "markdown",
   "id": "1202d807",
   "metadata": {},
   "source": [
    "#### Lower case\n",
    "\n",
    "As the computer doesn’t understand word meaning and operating is based on ASCII values, it is required to change every word to lowercase (if any)."
   ]
  },
  {
   "cell_type": "code",
   "execution_count": 22,
   "id": "f73f66c1",
   "metadata": {},
   "outputs": [],
   "source": [
    "# all headlines with lower case\n",
    "data[\"lower_headline_text\"] = data[\"headline_text\"].apply(lambda x: \" \".join(x.lower() for x in x.split()))"
   ]
  },
  {
   "cell_type": "markdown",
   "id": "3aae6ffd",
   "metadata": {},
   "source": [
    "#### Special characters removal\n",
    "\n",
    "Removing special characters from the text will also remove unnecessary noise from the text, which has been performed by using the regex function below."
   ]
  },
  {
   "cell_type": "code",
   "execution_count": 23,
   "id": "d679f7b8",
   "metadata": {},
   "outputs": [
    {
     "name": "stderr",
     "output_type": "stream",
     "text": [
      "C:\\Users\\Admin\\AppData\\Local\\Temp\\ipykernel_11452\\959651330.py:1: FutureWarning: The default value of regex will change from True to False in a future version.\n",
      "  data[\"lower_headline_text\"] = data[\"headline_text\"].str.replace('[^\\w\\s]','')\n"
     ]
    }
   ],
   "source": [
    "data[\"lower_headline_text\"] = data[\"headline_text\"].str.replace('[^\\w\\s]','')"
   ]
  },
  {
   "cell_type": "markdown",
   "id": "53ee02c7",
   "metadata": {},
   "source": [
    "#### Stop words removal\n",
    "\n",
    "And finally, all stop words from the text have been removed."
   ]
  },
  {
   "cell_type": "code",
   "execution_count": 24,
   "id": "5871e2e6",
   "metadata": {},
   "outputs": [],
   "source": [
    "data[\"lower_headline_text\"] = data[\"lower_headline_text\"].apply(lambda x: \" \".join(x for x in x.split() if x not in stop))"
   ]
  },
  {
   "cell_type": "code",
   "execution_count": 25,
   "id": "3bc88f1e",
   "metadata": {},
   "outputs": [
    {
     "name": "stdout",
     "output_type": "stream",
     "text": [
      "act fire witnesses must be aware of defamation\n",
      "act fire witnesses must aware defamation\n"
     ]
    }
   ],
   "source": [
    "print(data[\"headline_text\"].iloc[1]) # original text\n",
    "print(data[\"lower_headline_text\"].iloc[1]) # text now without stopwords"
   ]
  },
  {
   "cell_type": "markdown",
   "id": "c0bd2b60",
   "metadata": {},
   "source": [
    "### Sentiment analysis: Textblob"
   ]
  },
  {
   "cell_type": "markdown",
   "id": "4d9091dd",
   "metadata": {},
   "source": [
    "#### TextBlob: lexicon based sentiment analyser.\n",
    "\n",
    "TextBlow is a Natural Language Toolkit which is used to analyse text sentiment. The TextBlob outcome provides two values: \n",
    "\n",
    "* polarity (which score is between -1 and 1, where 1 identifies the most positive words and -1 the most negative words)\n",
    "* subjectivity( which score is between 0 and 1, where 0 identifies factual opinion and 1 personal opinion.\n",
    "\n",
    "This analysis focuses on the polarity score.\n",
    "\n"
   ]
  },
  {
   "cell_type": "code",
   "execution_count": 26,
   "id": "86a99831",
   "metadata": {},
   "outputs": [],
   "source": [
    "from textblob import TextBlob"
   ]
  },
  {
   "cell_type": "code",
   "execution_count": 27,
   "id": "1bece00d",
   "metadata": {},
   "outputs": [
    {
     "data": {
      "text/plain": [
       "0        (0.0, 0.0)\n",
       "1      (0.25, 0.25)\n",
       "2        (0.0, 0.0)\n",
       "3        (0.0, 0.0)\n",
       "4        (0.0, 0.0)\n",
       "           ...     \n",
       "995      (0.0, 0.0)\n",
       "996      (0.0, 0.0)\n",
       "997      (0.0, 0.0)\n",
       "998      (0.0, 0.0)\n",
       "999      (0.0, 0.3)\n",
       "Name: lower_headline_text, Length: 1000, dtype: object"
      ]
     },
     "execution_count": 27,
     "metadata": {},
     "output_type": "execute_result"
    }
   ],
   "source": [
    "# first is sentiment value, 2nd objectivenes value\n",
    "# for ex. 0: negative sentiment / 1.0 value means that there is a very specific thing/objec there is a talk about\n",
    "# for ex. 1: positive tone (or sentiment) / 0.2 objectivenes or something not exactly specific the conversation is about\n",
    "# for ex 2: neutral sentiment and neutral topic\n",
    "\n",
    "data[\"lower_headline_text\"][:1000].apply(lambda x: TextBlob(x).sentiment)"
   ]
  },
  {
   "cell_type": "markdown",
   "id": "9601915d",
   "metadata": {},
   "source": [
    "#### TextBlob sentiment score"
   ]
  },
  {
   "cell_type": "code",
   "execution_count": 28,
   "id": "88ea78ca",
   "metadata": {},
   "outputs": [],
   "source": [
    "data[\"TextBlob_sentiment\"] = data[\"lower_headline_text\"].apply(lambda x: TextBlob(x).sentiment[0])"
   ]
  },
  {
   "cell_type": "code",
   "execution_count": 29,
   "id": "7fadf2ed",
   "metadata": {},
   "outputs": [
    {
     "data": {
      "text/html": [
       "<div>\n",
       "<style scoped>\n",
       "    .dataframe tbody tr th:only-of-type {\n",
       "        vertical-align: middle;\n",
       "    }\n",
       "\n",
       "    .dataframe tbody tr th {\n",
       "        vertical-align: top;\n",
       "    }\n",
       "\n",
       "    .dataframe thead th {\n",
       "        text-align: right;\n",
       "    }\n",
       "</style>\n",
       "<table border=\"1\" class=\"dataframe\">\n",
       "  <thead>\n",
       "    <tr style=\"text-align: right;\">\n",
       "      <th></th>\n",
       "      <th>publish_date</th>\n",
       "      <th>headline_text</th>\n",
       "      <th>word_count</th>\n",
       "      <th>varchar_count</th>\n",
       "      <th>avg_word</th>\n",
       "      <th>num_values</th>\n",
       "      <th>stopwords</th>\n",
       "      <th>lower_headline_text</th>\n",
       "      <th>TextBlob_sentiment</th>\n",
       "    </tr>\n",
       "  </thead>\n",
       "  <tbody>\n",
       "    <tr>\n",
       "      <th>0</th>\n",
       "      <td>20030219</td>\n",
       "      <td>aba decides against community broadcasting lic...</td>\n",
       "      <td>6</td>\n",
       "      <td>50</td>\n",
       "      <td>7.500000</td>\n",
       "      <td>0</td>\n",
       "      <td>1</td>\n",
       "      <td>aba decides community broadcasting licence</td>\n",
       "      <td>0.00</td>\n",
       "    </tr>\n",
       "    <tr>\n",
       "      <th>1</th>\n",
       "      <td>20030219</td>\n",
       "      <td>act fire witnesses must be aware of defamation</td>\n",
       "      <td>8</td>\n",
       "      <td>46</td>\n",
       "      <td>4.875000</td>\n",
       "      <td>0</td>\n",
       "      <td>2</td>\n",
       "      <td>act fire witnesses must aware defamation</td>\n",
       "      <td>0.25</td>\n",
       "    </tr>\n",
       "    <tr>\n",
       "      <th>2</th>\n",
       "      <td>20030219</td>\n",
       "      <td>a g calls for infrastructure protection summit</td>\n",
       "      <td>7</td>\n",
       "      <td>46</td>\n",
       "      <td>5.714286</td>\n",
       "      <td>0</td>\n",
       "      <td>2</td>\n",
       "      <td>g calls infrastructure protection summit</td>\n",
       "      <td>0.00</td>\n",
       "    </tr>\n",
       "    <tr>\n",
       "      <th>3</th>\n",
       "      <td>20030219</td>\n",
       "      <td>air nz staff in aust strike for pay rise</td>\n",
       "      <td>9</td>\n",
       "      <td>40</td>\n",
       "      <td>3.555556</td>\n",
       "      <td>0</td>\n",
       "      <td>2</td>\n",
       "      <td>air nz staff aust strike pay rise</td>\n",
       "      <td>0.00</td>\n",
       "    </tr>\n",
       "    <tr>\n",
       "      <th>4</th>\n",
       "      <td>20030219</td>\n",
       "      <td>air nz strike to affect australian travellers</td>\n",
       "      <td>7</td>\n",
       "      <td>45</td>\n",
       "      <td>5.571429</td>\n",
       "      <td>0</td>\n",
       "      <td>1</td>\n",
       "      <td>air nz strike affect australian travellers</td>\n",
       "      <td>0.00</td>\n",
       "    </tr>\n",
       "  </tbody>\n",
       "</table>\n",
       "</div>"
      ],
      "text/plain": [
       "   publish_date                                      headline_text  \\\n",
       "0      20030219  aba decides against community broadcasting lic...   \n",
       "1      20030219     act fire witnesses must be aware of defamation   \n",
       "2      20030219     a g calls for infrastructure protection summit   \n",
       "3      20030219           air nz staff in aust strike for pay rise   \n",
       "4      20030219      air nz strike to affect australian travellers   \n",
       "\n",
       "   word_count  varchar_count  avg_word  num_values  stopwords  \\\n",
       "0           6             50  7.500000           0          1   \n",
       "1           8             46  4.875000           0          2   \n",
       "2           7             46  5.714286           0          2   \n",
       "3           9             40  3.555556           0          2   \n",
       "4           7             45  5.571429           0          1   \n",
       "\n",
       "                          lower_headline_text  TextBlob_sentiment  \n",
       "0  aba decides community broadcasting licence                0.00  \n",
       "1    act fire witnesses must aware defamation                0.25  \n",
       "2    g calls infrastructure protection summit                0.00  \n",
       "3           air nz staff aust strike pay rise                0.00  \n",
       "4  air nz strike affect australian travellers                0.00  "
      ]
     },
     "execution_count": 29,
     "metadata": {},
     "output_type": "execute_result"
    }
   ],
   "source": [
    "data.head()"
   ]
  },
  {
   "cell_type": "markdown",
   "id": "0cb04f9b",
   "metadata": {},
   "source": [
    "#### First look on a sentiment values\n",
    "\n",
    "Currently, the vast majority of headlines have a neutral sentiment."
   ]
  },
  {
   "cell_type": "code",
   "execution_count": 30,
   "id": "3174c37a",
   "metadata": {},
   "outputs": [
    {
     "data": {
      "text/plain": [
       " 0.000000    895538\n",
       "-0.200000     29220\n",
       " 0.136364     26281\n",
       "-0.100000     24818\n",
       " 0.100000     23201\n",
       "              ...  \n",
       " 0.073232         1\n",
       " 0.087121         1\n",
       "-0.633333         1\n",
       "-0.134545         1\n",
       "-0.044697         1\n",
       "Name: TextBlob_sentiment, Length: 2297, dtype: int64"
      ]
     },
     "execution_count": 30,
     "metadata": {},
     "output_type": "execute_result"
    }
   ],
   "source": [
    "# looks like vast majority of headlines are neutral\n",
    "data[\"TextBlob_sentiment\"].value_counts()"
   ]
  },
  {
   "cell_type": "code",
   "execution_count": 31,
   "id": "c9336f98",
   "metadata": {},
   "outputs": [
    {
     "data": {
      "text/plain": [
       "0      aba decides community broadcasting licence\n",
       "1        act fire witnesses must aware defamation\n",
       "2        g calls infrastructure protection summit\n",
       "3               air nz staff aust strike pay rise\n",
       "4      air nz strike affect australian travellers\n",
       "                          ...                    \n",
       "995                 conference focus tuna fishery\n",
       "996                     council hosts farewell mp\n",
       "997           council resists eba roster pressure\n",
       "998              customs house restoration opened\n",
       "999         dam water levels still critically low\n",
       "Name: lower_headline_text, Length: 1000, dtype: object"
      ]
     },
     "execution_count": 31,
     "metadata": {},
     "output_type": "execute_result"
    }
   ],
   "source": [
    "data['lower_headline_text'][:1000]"
   ]
  },
  {
   "cell_type": "markdown",
   "id": "9b4244d0",
   "metadata": {},
   "source": [
    "#### TextBlob word correction\n",
    "\n",
    "By using the correct method, text with spelling mistakes will be corrected. As the usage of the method takes a long time, it has been performed on the first 1000 headlines to explore if any significant difference in terms of sentiment score will happen.    "
   ]
  },
  {
   "cell_type": "code",
   "execution_count": 32,
   "id": "f5b13cf7",
   "metadata": {},
   "outputs": [],
   "source": [
    "data[\"text_corrected\"] = data['lower_headline_text'][:1000].apply(lambda x: str(TextBlob(x).correct()))"
   ]
  },
  {
   "cell_type": "markdown",
   "id": "f6e8cff5",
   "metadata": {},
   "source": [
    "Based on the scores below, the sentiment of the headlines did not change in most cases. \n"
   ]
  },
  {
   "cell_type": "code",
   "execution_count": 33,
   "id": "ab970305",
   "metadata": {},
   "outputs": [
    {
     "data": {
      "text/plain": [
       "0        (0.0, 0.0)\n",
       "1      (0.25, 0.25)\n",
       "2        (0.0, 0.0)\n",
       "3        (0.0, 0.0)\n",
       "4        (0.0, 0.0)\n",
       "           ...     \n",
       "995      (0.0, 0.0)\n",
       "996      (0.0, 0.0)\n",
       "997      (0.0, 0.0)\n",
       "998      (0.0, 0.0)\n",
       "999      (0.0, 0.3)\n",
       "Name: text_corrected, Length: 1000, dtype: object"
      ]
     },
     "execution_count": 33,
     "metadata": {},
     "output_type": "execute_result"
    }
   ],
   "source": [
    "data[\"text_corrected\"][:1000].apply(lambda x: TextBlob(x).sentiment)"
   ]
  },
  {
   "cell_type": "code",
   "execution_count": 34,
   "id": "825ba583",
   "metadata": {},
   "outputs": [
    {
     "data": {
      "text/html": [
       "<div>\n",
       "<style scoped>\n",
       "    .dataframe tbody tr th:only-of-type {\n",
       "        vertical-align: middle;\n",
       "    }\n",
       "\n",
       "    .dataframe tbody tr th {\n",
       "        vertical-align: top;\n",
       "    }\n",
       "\n",
       "    .dataframe thead th {\n",
       "        text-align: right;\n",
       "    }\n",
       "</style>\n",
       "<table border=\"1\" class=\"dataframe\">\n",
       "  <thead>\n",
       "    <tr style=\"text-align: right;\">\n",
       "      <th></th>\n",
       "      <th>publish_date</th>\n",
       "      <th>headline_text</th>\n",
       "      <th>word_count</th>\n",
       "      <th>varchar_count</th>\n",
       "      <th>avg_word</th>\n",
       "      <th>num_values</th>\n",
       "      <th>stopwords</th>\n",
       "      <th>lower_headline_text</th>\n",
       "      <th>TextBlob_sentiment</th>\n",
       "      <th>text_corrected</th>\n",
       "    </tr>\n",
       "  </thead>\n",
       "  <tbody>\n",
       "    <tr>\n",
       "      <th>0</th>\n",
       "      <td>20030219</td>\n",
       "      <td>aba decides against community broadcasting lic...</td>\n",
       "      <td>6</td>\n",
       "      <td>50</td>\n",
       "      <td>7.5</td>\n",
       "      <td>0</td>\n",
       "      <td>1</td>\n",
       "      <td>aba decides community broadcasting licence</td>\n",
       "      <td>0.0</td>\n",
       "      <td>ba decides community broadcasting licence</td>\n",
       "    </tr>\n",
       "  </tbody>\n",
       "</table>\n",
       "</div>"
      ],
      "text/plain": [
       "   publish_date                                      headline_text  \\\n",
       "0      20030219  aba decides against community broadcasting lic...   \n",
       "\n",
       "   word_count  varchar_count  avg_word  num_values  stopwords  \\\n",
       "0           6             50       7.5           0          1   \n",
       "\n",
       "                          lower_headline_text  TextBlob_sentiment  \\\n",
       "0  aba decides community broadcasting licence                 0.0   \n",
       "\n",
       "                              text_corrected  \n",
       "0  ba decides community broadcasting licence  "
      ]
     },
     "execution_count": 34,
     "metadata": {},
     "output_type": "execute_result"
    }
   ],
   "source": [
    "data.head(1)"
   ]
  },
  {
   "cell_type": "markdown",
   "id": "8e19e298",
   "metadata": {},
   "source": [
    "The function below would convert sentiment scores to a more consistent form which is positive, neutral or negative."
   ]
  },
  {
   "cell_type": "code",
   "execution_count": 35,
   "id": "c8200ab7",
   "metadata": {},
   "outputs": [],
   "source": [
    "def OutcomeAnalysis(i):\n",
    "    if i > 0:\n",
    "        return \"Positive\"\n",
    "    elif i == 0:\n",
    "        return \"Neutral\"\n",
    "    else:\n",
    "        return \"Negative\""
   ]
  },
  {
   "cell_type": "code",
   "execution_count": 36,
   "id": "6aa233aa",
   "metadata": {},
   "outputs": [],
   "source": [
    "data[\"Outcome_Analysis\"] = data[\"TextBlob_sentiment\"].apply(OutcomeAnalysis )"
   ]
  },
  {
   "cell_type": "code",
   "execution_count": 37,
   "id": "5e7c763d",
   "metadata": {},
   "outputs": [
    {
     "data": {
      "text/plain": [
       "Neutral     895538\n",
       "Positive    197390\n",
       "Negative    151256\n",
       "Name: Outcome_Analysis, dtype: int64"
      ]
     },
     "execution_count": 37,
     "metadata": {},
     "output_type": "execute_result"
    }
   ],
   "source": [
    "data[\"Outcome_Analysis\"].value_counts()"
   ]
  },
  {
   "cell_type": "markdown",
   "id": "7f51f8b0",
   "metadata": {},
   "source": [
    "As can be seen below, the vast majority of the headlines have neutral sentiments. Further improvement is required."
   ]
  },
  {
   "cell_type": "code",
   "execution_count": 38,
   "id": "e19ca0f1",
   "metadata": {},
   "outputs": [
    {
     "data": {
      "image/png": "[encoded data removed]",
      "text/plain": [
       "<Figure size 640x480 with 1 Axes>"
      ]
     },
     "metadata": {},
     "output_type": "display_data"
    }
   ],
   "source": [
    "data[\"Outcome_Analysis\"].value_counts().plot(kind='bar',title=\"TextBlob Sentiment Analysis\");"
   ]
  },
  {
   "cell_type": "markdown",
   "id": "7789e698",
   "metadata": {},
   "source": [
    "#### Lemmatization\n",
    "\n",
    "Lemmatization is one of the most common techniques used in sentiment analysis, which changes the words to their root word. Lemmatization is a technique simmilar to the steaming however is more accurate."
   ]
  },
  {
   "cell_type": "code",
   "execution_count": 39,
   "id": "fce5335a",
   "metadata": {},
   "outputs": [
    {
     "data": {
      "text/html": [
       "<div>\n",
       "<style scoped>\n",
       "    .dataframe tbody tr th:only-of-type {\n",
       "        vertical-align: middle;\n",
       "    }\n",
       "\n",
       "    .dataframe tbody tr th {\n",
       "        vertical-align: top;\n",
       "    }\n",
       "\n",
       "    .dataframe thead th {\n",
       "        text-align: right;\n",
       "    }\n",
       "</style>\n",
       "<table border=\"1\" class=\"dataframe\">\n",
       "  <thead>\n",
       "    <tr style=\"text-align: right;\">\n",
       "      <th></th>\n",
       "      <th>publish_date</th>\n",
       "      <th>headline_text</th>\n",
       "      <th>word_count</th>\n",
       "      <th>varchar_count</th>\n",
       "      <th>avg_word</th>\n",
       "      <th>num_values</th>\n",
       "      <th>stopwords</th>\n",
       "      <th>lower_headline_text</th>\n",
       "      <th>TextBlob_sentiment</th>\n",
       "      <th>text_corrected</th>\n",
       "      <th>Outcome_Analysis</th>\n",
       "    </tr>\n",
       "  </thead>\n",
       "  <tbody>\n",
       "    <tr>\n",
       "      <th>0</th>\n",
       "      <td>20030219</td>\n",
       "      <td>aba decides against community broadcasting lic...</td>\n",
       "      <td>6</td>\n",
       "      <td>50</td>\n",
       "      <td>7.5</td>\n",
       "      <td>0</td>\n",
       "      <td>1</td>\n",
       "      <td>aba decides community broadcasting licence</td>\n",
       "      <td>0.0</td>\n",
       "      <td>ba decides community broadcasting licence</td>\n",
       "      <td>Neutral</td>\n",
       "    </tr>\n",
       "  </tbody>\n",
       "</table>\n",
       "</div>"
      ],
      "text/plain": [
       "   publish_date                                      headline_text  \\\n",
       "0      20030219  aba decides against community broadcasting lic...   \n",
       "\n",
       "   word_count  varchar_count  avg_word  num_values  stopwords  \\\n",
       "0           6             50       7.5           0          1   \n",
       "\n",
       "                          lower_headline_text  TextBlob_sentiment  \\\n",
       "0  aba decides community broadcasting licence                 0.0   \n",
       "\n",
       "                              text_corrected Outcome_Analysis  \n",
       "0  ba decides community broadcasting licence          Neutral  "
      ]
     },
     "execution_count": 39,
     "metadata": {},
     "output_type": "execute_result"
    }
   ],
   "source": [
    "data.head(1)"
   ]
  },
  {
   "cell_type": "code",
   "execution_count": 40,
   "id": "39166cc8",
   "metadata": {},
   "outputs": [
    {
     "name": "stderr",
     "output_type": "stream",
     "text": [
      "[nltk_data] Downloading package wordnet to\n",
      "[nltk_data]     C:\\Users\\Admin\\AppData\\Roaming\\nltk_data...\n",
      "[nltk_data]   Package wordnet is already up-to-date!\n"
     ]
    },
    {
     "data": {
      "text/plain": [
       "True"
      ]
     },
     "execution_count": 40,
     "metadata": {},
     "output_type": "execute_result"
    }
   ],
   "source": [
    "nltk.download('wordnet')"
   ]
  },
  {
   "cell_type": "code",
   "execution_count": 41,
   "id": "5f306464",
   "metadata": {},
   "outputs": [],
   "source": [
    "from textblob import Word"
   ]
  },
  {
   "cell_type": "code",
   "execution_count": 42,
   "id": "d12449ea",
   "metadata": {},
   "outputs": [],
   "source": [
    "data[\"lemmatized_text\"] = data[\"lower_headline_text\"].apply(lambda x: \" \".join([Word(word).lemmatize() for word in x.split()]))\n"
   ]
  },
  {
   "cell_type": "code",
   "execution_count": 43,
   "id": "1a97ab16",
   "metadata": {},
   "outputs": [
    {
     "data": {
      "text/plain": [
       "0    aba decides community broadcasting licence\n",
       "1        act fire witness must aware defamation\n",
       "2       g call infrastructure protection summit\n",
       "3             air nz staff aust strike pay rise\n",
       "4     air nz strike affect australian traveller\n",
       "Name: lemmatized_text, dtype: object"
      ]
     },
     "execution_count": 43,
     "metadata": {},
     "output_type": "execute_result"
    }
   ],
   "source": [
    "data[\"lemmatized_text\"].head()"
   ]
  },
  {
   "cell_type": "markdown",
   "id": "de4bc53a",
   "metadata": {},
   "source": [
    "#### Porterstemmer\n",
    "\n",
    "Another text processing technique is stemming. Similar to lemmatization, the stemming technique changes words to their root meaning; however it mainly focuses on suffices like “ing”, “ly”, “s”.\n",
    "\n",
    "In order to improve TextBlob sentiment outcome, the lemmatized text will now be stemmed using PorterStemmer.\n"
   ]
  },
  {
   "cell_type": "code",
   "execution_count": 44,
   "id": "2520ff86",
   "metadata": {},
   "outputs": [
    {
     "data": {
      "text/plain": [
       "0                          aba decid commun broadcast licenc\n",
       "1                               act fire wit must awar defam\n",
       "2                        g call infrastructur protect summit\n",
       "3                          air nz staff aust strike pay rise\n",
       "4                     air nz strike affect australian travel\n",
       "                                 ...                        \n",
       "1244179                  two age care resid die state record\n",
       "1244180                 victoria record new case seven death\n",
       "1244181             wa delay adopt new close contact definit\n",
       "1244182    western ringtail possum found badli dehydr hea...\n",
       "1244183                    make close covid contact new rule\n",
       "Name: lemmatized_text, Length: 1244184, dtype: object"
      ]
     },
     "execution_count": 44,
     "metadata": {},
     "output_type": "execute_result"
    }
   ],
   "source": [
    "from nltk.stem import PorterStemmer\n",
    "st = PorterStemmer()\n",
    "data[\"lemmatized_text\"].apply(lambda x: \" \".join([st.stem(word) for word in x.split()]))"
   ]
  },
  {
   "cell_type": "code",
   "execution_count": 45,
   "id": "6ca609c8",
   "metadata": {},
   "outputs": [],
   "source": [
    "data[\"lemma_sentiment\"] = data[\"lemmatized_text\"].apply(lambda x: TextBlob(x).sentiment[0])"
   ]
  },
  {
   "cell_type": "code",
   "execution_count": 46,
   "id": "fc2ec752",
   "metadata": {},
   "outputs": [
    {
     "data": {
      "text/plain": [
       " 0.000000    880474\n",
       "-0.200000     31723\n",
       " 0.136364     25180\n",
       "-0.100000     24886\n",
       " 0.100000     21323\n",
       "              ...  \n",
       " 0.591667         1\n",
       " 0.384091         1\n",
       "-0.350694         1\n",
       "-0.425000         1\n",
       "-0.044697         1\n",
       "Name: lemma_sentiment, Length: 2643, dtype: int64"
      ]
     },
     "execution_count": 46,
     "metadata": {},
     "output_type": "execute_result"
    }
   ],
   "source": [
    "data[\"lemma_sentiment\"].value_counts()"
   ]
  },
  {
   "cell_type": "code",
   "execution_count": 47,
   "id": "2e57848d",
   "metadata": {},
   "outputs": [],
   "source": [
    "data[\"Lemma_Outcome_Analysis\"] = data[\"lemma_sentiment\"].apply(OutcomeAnalysis )"
   ]
  },
  {
   "cell_type": "code",
   "execution_count": 48,
   "id": "da23d4af",
   "metadata": {},
   "outputs": [
    {
     "data": {
      "text/plain": [
       "Neutral     880474\n",
       "Positive    199707\n",
       "Negative    164003\n",
       "Name: Lemma_Outcome_Analysis, dtype: int64"
      ]
     },
     "execution_count": 48,
     "metadata": {},
     "output_type": "execute_result"
    }
   ],
   "source": [
    "data[\"Lemma_Outcome_Analysis\"].value_counts()"
   ]
  },
  {
   "cell_type": "markdown",
   "id": "e03d6a63",
   "metadata": {},
   "source": [
    "#### TextBlob Sentiment analysis outcome\n",
    "\n",
    "After using various techniques to estimate sentiment analysis on text headlines, which included stemming lemmatization, removing special characters, and others seems like still the vast majority of the text is neutral and the overall value did not change significantly therefore, further analysis will be performed using other NLP algorithms."
   ]
  },
  {
   "cell_type": "markdown",
   "id": "c7545092",
   "metadata": {},
   "source": [
    "---"
   ]
  },
  {
   "cell_type": "markdown",
   "id": "bd281e85",
   "metadata": {},
   "source": [
    "## VADER sentiment analysis\n",
    "\n",
    "Vader, or in other words, Valence Aware Dictionary for sEntiment Reasoning is a model used for analysing text sentiment, which is sensitive to polarity and strength of emotion, by using a human-centric approach."
   ]
  },
  {
   "cell_type": "code",
   "execution_count": 49,
   "id": "493d7373",
   "metadata": {},
   "outputs": [],
   "source": [
    "import nltk"
   ]
  },
  {
   "cell_type": "code",
   "execution_count": 50,
   "id": "27b2de35",
   "metadata": {},
   "outputs": [
    {
     "name": "stderr",
     "output_type": "stream",
     "text": [
      "[nltk_data] Downloading package vader_lexicon to\n",
      "[nltk_data]     C:\\Users\\Admin\\AppData\\Roaming\\nltk_data...\n",
      "[nltk_data]   Package vader_lexicon is already up-to-date!\n"
     ]
    },
    {
     "data": {
      "text/plain": [
       "True"
      ]
     },
     "execution_count": 50,
     "metadata": {},
     "output_type": "execute_result"
    }
   ],
   "source": [
    "nltk.download('vader_lexicon')"
   ]
  },
  {
   "cell_type": "code",
   "execution_count": 51,
   "id": "f185d366",
   "metadata": {},
   "outputs": [],
   "source": [
    "from nltk.sentiment.vader import SentimentIntensityAnalyzer"
   ]
  },
  {
   "cell_type": "code",
   "execution_count": 52,
   "id": "b111dde1",
   "metadata": {},
   "outputs": [],
   "source": [
    "SIA = SentimentIntensityAnalyzer()"
   ]
  },
  {
   "cell_type": "markdown",
   "id": "39ee120d",
   "metadata": {},
   "source": [
    "#### Vader compound scores\n",
    "\n",
    "At first SIA have been used on headline text where special characters, stop words, and numeric values were removed to explore what will be the outcome of VADERs analysis in comparison with TextBlob and then compound values have been extracted, which is “the sum of the valence score of each word in the lexicon and determines the degree of the sentiment rather than the actual value as opposed to the previous ones”."
   ]
  },
  {
   "cell_type": "code",
   "execution_count": 53,
   "id": "3cb80747",
   "metadata": {},
   "outputs": [],
   "source": [
    "data['scores'] = data['lower_headline_text'].apply(lambda x: SIA.polarity_scores(x))\n"
   ]
  },
  {
   "cell_type": "code",
   "execution_count": 54,
   "id": "9333f984",
   "metadata": {},
   "outputs": [
    {
     "data": {
      "text/html": [
       "<div>\n",
       "<style scoped>\n",
       "    .dataframe tbody tr th:only-of-type {\n",
       "        vertical-align: middle;\n",
       "    }\n",
       "\n",
       "    .dataframe tbody tr th {\n",
       "        vertical-align: top;\n",
       "    }\n",
       "\n",
       "    .dataframe thead th {\n",
       "        text-align: right;\n",
       "    }\n",
       "</style>\n",
       "<table border=\"1\" class=\"dataframe\">\n",
       "  <thead>\n",
       "    <tr style=\"text-align: right;\">\n",
       "      <th></th>\n",
       "      <th>publish_date</th>\n",
       "      <th>headline_text</th>\n",
       "      <th>word_count</th>\n",
       "      <th>varchar_count</th>\n",
       "      <th>avg_word</th>\n",
       "      <th>num_values</th>\n",
       "      <th>stopwords</th>\n",
       "      <th>lower_headline_text</th>\n",
       "      <th>TextBlob_sentiment</th>\n",
       "      <th>text_corrected</th>\n",
       "      <th>Outcome_Analysis</th>\n",
       "      <th>lemmatized_text</th>\n",
       "      <th>lemma_sentiment</th>\n",
       "      <th>Lemma_Outcome_Analysis</th>\n",
       "      <th>scores</th>\n",
       "    </tr>\n",
       "  </thead>\n",
       "  <tbody>\n",
       "    <tr>\n",
       "      <th>0</th>\n",
       "      <td>20030219</td>\n",
       "      <td>aba decides against community broadcasting lic...</td>\n",
       "      <td>6</td>\n",
       "      <td>50</td>\n",
       "      <td>7.500000</td>\n",
       "      <td>0</td>\n",
       "      <td>1</td>\n",
       "      <td>aba decides community broadcasting licence</td>\n",
       "      <td>0.00</td>\n",
       "      <td>ba decides community broadcasting licence</td>\n",
       "      <td>Neutral</td>\n",
       "      <td>aba decides community broadcasting licence</td>\n",
       "      <td>0.00</td>\n",
       "      <td>Neutral</td>\n",
       "      <td>{'neg': 0.0, 'neu': 1.0, 'pos': 0.0, 'compound...</td>\n",
       "    </tr>\n",
       "    <tr>\n",
       "      <th>1</th>\n",
       "      <td>20030219</td>\n",
       "      <td>act fire witnesses must be aware of defamation</td>\n",
       "      <td>8</td>\n",
       "      <td>46</td>\n",
       "      <td>4.875000</td>\n",
       "      <td>0</td>\n",
       "      <td>2</td>\n",
       "      <td>act fire witnesses must aware defamation</td>\n",
       "      <td>0.25</td>\n",
       "      <td>act fire witnesses must aware defamation</td>\n",
       "      <td>Positive</td>\n",
       "      <td>act fire witness must aware defamation</td>\n",
       "      <td>0.25</td>\n",
       "      <td>Positive</td>\n",
       "      <td>{'neg': 0.324, 'neu': 0.676, 'pos': 0.0, 'comp...</td>\n",
       "    </tr>\n",
       "    <tr>\n",
       "      <th>2</th>\n",
       "      <td>20030219</td>\n",
       "      <td>a g calls for infrastructure protection summit</td>\n",
       "      <td>7</td>\n",
       "      <td>46</td>\n",
       "      <td>5.714286</td>\n",
       "      <td>0</td>\n",
       "      <td>2</td>\n",
       "      <td>g calls infrastructure protection summit</td>\n",
       "      <td>0.00</td>\n",
       "      <td>g calls infrastructure protection summit</td>\n",
       "      <td>Neutral</td>\n",
       "      <td>g call infrastructure protection summit</td>\n",
       "      <td>0.00</td>\n",
       "      <td>Neutral</td>\n",
       "      <td>{'neg': 0.0, 'neu': 1.0, 'pos': 0.0, 'compound...</td>\n",
       "    </tr>\n",
       "    <tr>\n",
       "      <th>3</th>\n",
       "      <td>20030219</td>\n",
       "      <td>air nz staff in aust strike for pay rise</td>\n",
       "      <td>9</td>\n",
       "      <td>40</td>\n",
       "      <td>3.555556</td>\n",
       "      <td>0</td>\n",
       "      <td>2</td>\n",
       "      <td>air nz staff aust strike pay rise</td>\n",
       "      <td>0.00</td>\n",
       "      <td>air no staff must strike pay rise</td>\n",
       "      <td>Neutral</td>\n",
       "      <td>air nz staff aust strike pay rise</td>\n",
       "      <td>0.00</td>\n",
       "      <td>Neutral</td>\n",
       "      <td>{'neg': 0.367, 'neu': 0.633, 'pos': 0.0, 'comp...</td>\n",
       "    </tr>\n",
       "    <tr>\n",
       "      <th>4</th>\n",
       "      <td>20030219</td>\n",
       "      <td>air nz strike to affect australian travellers</td>\n",
       "      <td>7</td>\n",
       "      <td>45</td>\n",
       "      <td>5.571429</td>\n",
       "      <td>0</td>\n",
       "      <td>1</td>\n",
       "      <td>air nz strike affect australian travellers</td>\n",
       "      <td>0.00</td>\n",
       "      <td>air no strike affect australian travellers</td>\n",
       "      <td>Neutral</td>\n",
       "      <td>air nz strike affect australian traveller</td>\n",
       "      <td>0.00</td>\n",
       "      <td>Neutral</td>\n",
       "      <td>{'neg': 0.231, 'neu': 0.769, 'pos': 0.0, 'comp...</td>\n",
       "    </tr>\n",
       "  </tbody>\n",
       "</table>\n",
       "</div>"
      ],
      "text/plain": [
       "   publish_date                                      headline_text  \\\n",
       "0      20030219  aba decides against community broadcasting lic...   \n",
       "1      20030219     act fire witnesses must be aware of defamation   \n",
       "2      20030219     a g calls for infrastructure protection summit   \n",
       "3      20030219           air nz staff in aust strike for pay rise   \n",
       "4      20030219      air nz strike to affect australian travellers   \n",
       "\n",
       "   word_count  varchar_count  avg_word  num_values  stopwords  \\\n",
       "0           6             50  7.500000           0          1   \n",
       "1           8             46  4.875000           0          2   \n",
       "2           7             46  5.714286           0          2   \n",
       "3           9             40  3.555556           0          2   \n",
       "4           7             45  5.571429           0          1   \n",
       "\n",
       "                          lower_headline_text  TextBlob_sentiment  \\\n",
       "0  aba decides community broadcasting licence                0.00   \n",
       "1    act fire witnesses must aware defamation                0.25   \n",
       "2    g calls infrastructure protection summit                0.00   \n",
       "3           air nz staff aust strike pay rise                0.00   \n",
       "4  air nz strike affect australian travellers                0.00   \n",
       "\n",
       "                               text_corrected Outcome_Analysis  \\\n",
       "0   ba decides community broadcasting licence          Neutral   \n",
       "1    act fire witnesses must aware defamation         Positive   \n",
       "2    g calls infrastructure protection summit          Neutral   \n",
       "3           air no staff must strike pay rise          Neutral   \n",
       "4  air no strike affect australian travellers          Neutral   \n",
       "\n",
       "                              lemmatized_text  lemma_sentiment  \\\n",
       "0  aba decides community broadcasting licence             0.00   \n",
       "1      act fire witness must aware defamation             0.25   \n",
       "2     g call infrastructure protection summit             0.00   \n",
       "3           air nz staff aust strike pay rise             0.00   \n",
       "4   air nz strike affect australian traveller             0.00   \n",
       "\n",
       "  Lemma_Outcome_Analysis                                             scores  \n",
       "0                Neutral  {'neg': 0.0, 'neu': 1.0, 'pos': 0.0, 'compound...  \n",
       "1               Positive  {'neg': 0.324, 'neu': 0.676, 'pos': 0.0, 'comp...  \n",
       "2                Neutral  {'neg': 0.0, 'neu': 1.0, 'pos': 0.0, 'compound...  \n",
       "3                Neutral  {'neg': 0.367, 'neu': 0.633, 'pos': 0.0, 'comp...  \n",
       "4                Neutral  {'neg': 0.231, 'neu': 0.769, 'pos': 0.0, 'comp...  "
      ]
     },
     "execution_count": 54,
     "metadata": {},
     "output_type": "execute_result"
    }
   ],
   "source": [
    "data.head()"
   ]
  },
  {
   "cell_type": "code",
   "execution_count": 55,
   "id": "6452ff0b",
   "metadata": {},
   "outputs": [],
   "source": [
    "data['vader_compound'] = data['scores'].apply(lambda x: x['compound'])"
   ]
  },
  {
   "cell_type": "code",
   "execution_count": 56,
   "id": "5c8092ce",
   "metadata": {},
   "outputs": [],
   "source": [
    "data[\"vader_sentiment\"] = data[\"vader_compound\"].apply(OutcomeAnalysis)"
   ]
  },
  {
   "cell_type": "markdown",
   "id": "a9a0c349",
   "metadata": {},
   "source": [
    "#### Vader sentiment\n",
    "\n",
    "As can be seen below, still the majority of headlines have neutral sentiment, however, overall sentiment value has changed, including positive and negative sentiments."
   ]
  },
  {
   "cell_type": "code",
   "execution_count": 57,
   "id": "a4a04dcb",
   "metadata": {},
   "outputs": [
    {
     "data": {
      "text/plain": [
       "Neutral     559701\n",
       "Negative    424979\n",
       "Positive    259504\n",
       "Name: vader_sentiment, dtype: int64"
      ]
     },
     "execution_count": 57,
     "metadata": {},
     "output_type": "execute_result"
    }
   ],
   "source": [
    "data[\"vader_sentiment\"].value_counts()"
   ]
  },
  {
   "cell_type": "code",
   "execution_count": 58,
   "id": "660a1fda",
   "metadata": {},
   "outputs": [
    {
     "data": {
      "text/plain": [
       "<AxesSubplot:title={'center':'VADER sentiment analysis'}>"
      ]
     },
     "execution_count": 58,
     "metadata": {},
     "output_type": "execute_result"
    },
    {
     "data": {
      "image/png": "[encoded data removed]",
      "text/plain": [
       "<Figure size 640x480 with 1 Axes>"
      ]
     },
     "metadata": {},
     "output_type": "display_data"
    }
   ],
   "source": [
    "data[\"vader_sentiment\"].value_counts().plot(kind=\"bar\", title=\"VADER sentiment analysis\")"
   ]
  },
  {
   "cell_type": "markdown",
   "id": "7ad14e97",
   "metadata": {},
   "source": [
    "#### Vader + lemmatization + PorterSteemer\n",
    "\n",
    "Another text has been performed on previously lemmatized and PorterStemmer'ed text to explore if sentiment would change. However as can be seen below, the sentiment has not changed dramatically, therefore, the overall sentiment outcome stays the same."
   ]
  },
  {
   "cell_type": "code",
   "execution_count": 59,
   "id": "208eda29",
   "metadata": {},
   "outputs": [],
   "source": [
    "data[\"lemma_vader_scores\"] = data['lemmatized_text'].apply(lambda x: SIA.polarity_scores(x))"
   ]
  },
  {
   "cell_type": "code",
   "execution_count": 60,
   "id": "f63c0a61",
   "metadata": {},
   "outputs": [],
   "source": [
    "data['vader_compound_lemma'] = data['lemma_vader_scores'].apply(lambda x: x['compound'])"
   ]
  },
  {
   "cell_type": "code",
   "execution_count": 61,
   "id": "b7787ad9",
   "metadata": {},
   "outputs": [],
   "source": [
    "data[\"vader_sentiment_lemma\"] = data[\"vader_compound_lemma\"].apply(OutcomeAnalysis)"
   ]
  },
  {
   "cell_type": "code",
   "execution_count": 62,
   "id": "7a92e00d",
   "metadata": {},
   "outputs": [
    {
     "data": {
      "text/plain": [
       "Neutral     541219\n",
       "Negative    430705\n",
       "Positive    272260\n",
       "Name: vader_sentiment_lemma, dtype: int64"
      ]
     },
     "execution_count": 62,
     "metadata": {},
     "output_type": "execute_result"
    }
   ],
   "source": [
    "data[\"vader_sentiment_lemma\"].value_counts()"
   ]
  },
  {
   "cell_type": "code",
   "execution_count": 63,
   "id": "57956f5a",
   "metadata": {},
   "outputs": [
    {
     "data": {
      "image/png": "[encoded data removed]",
      "text/plain": [
       "<Figure size 640x480 with 1 Axes>"
      ]
     },
     "metadata": {},
     "output_type": "display_data"
    }
   ],
   "source": [
    "data[\"vader_sentiment_lemma\"].value_counts().plot(kind=\"bar\", title=\"VADER sentiment analysis (lemmatized / steammed).\");"
   ]
  },
  {
   "cell_type": "markdown",
   "id": "ab8b1327",
   "metadata": {},
   "source": [
    "#### Positive or negative sentiment\n",
    "\n",
    "In the final analysis, the text have been tokenized and then implemented into the Multinomial Naïve Bayes model, using the pipeline to have a better understanding of the text in terms of  Positive or Negative sentiment only  (without Neutral sentiment).\n",
    "\n",
    "CountVectorizer will change textual data into a numeric one and will also remove any special characters and capital letters from the text including using regex tokenizer.\n",
    "\n",
    "Multinomial Naive Bayes will be used as a tool for text classification. To achieve this goal, a train/ test split will be required where tokenized text will be as an independent variable and sentiment columns as a dependent variable. As using this method is time-consuming the analysis has been implemented only on the first and last 1000 headlines to deeply clarify VADER analysis.\n"
   ]
  },
  {
   "cell_type": "code",
   "execution_count": 64,
   "id": "47fbf7f2",
   "metadata": {},
   "outputs": [],
   "source": [
    "### tokens"
   ]
  },
  {
   "cell_type": "code",
   "execution_count": 65,
   "id": "4c1eade4",
   "metadata": {},
   "outputs": [],
   "source": [
    "from sklearn.feature_extraction.text import CountVectorizer\n",
    "from nltk.tokenize import RegexpTokenizer"
   ]
  },
  {
   "cell_type": "code",
   "execution_count": 66,
   "id": "d6c8bd80",
   "metadata": {},
   "outputs": [],
   "source": [
    "token = RegexpTokenizer(r'[a-zA-Z0-9]+')"
   ]
  },
  {
   "cell_type": "markdown",
   "id": "c78084b8",
   "metadata": {},
   "source": [
    "ngram 1,1 means it is looking for individual words, not a group of words; therefore 1 word = 1 token"
   ]
  },
  {
   "cell_type": "code",
   "execution_count": 67,
   "id": "e876e143",
   "metadata": {},
   "outputs": [],
   "source": [
    "\n",
    "cv = CountVectorizer(stop_words='english',ngram_range = (1,1),tokenizer = token.tokenize)"
   ]
  },
  {
   "cell_type": "code",
   "execution_count": 68,
   "id": "5fcf2935",
   "metadata": {},
   "outputs": [
    {
     "name": "stderr",
     "output_type": "stream",
     "text": [
      "C:\\Users\\Admin\\AppData\\Roaming\\Python\\Python39\\site-packages\\sklearn\\feature_extraction\\text.py:528: UserWarning: The parameter 'token_pattern' will not be used since 'tokenizer' is not None'\n",
      "  warnings.warn(\n"
     ]
    }
   ],
   "source": [
    "text_counts = cv.fit_transform(data['lemmatized_text'])"
   ]
  },
  {
   "cell_type": "code",
   "execution_count": 69,
   "id": "96b516a5",
   "metadata": {},
   "outputs": [
    {
     "name": "stdout",
     "output_type": "stream",
     "text": [
      "  (0, 41)\t1\n",
      "  (0, 20386)\t1\n",
      "  (0, 16513)\t1\n",
      "  (0, 10814)\t1\n",
      "  (0, 46768)\t1\n",
      "  (1, 645)\t1\n",
      "  (1, 89710)\t1\n",
      "  (1, 5242)\t1\n",
      "  (1, 20572)\t1\n",
      "  (2, 30843)\t1\n",
      "  (2, 39537)\t1\n",
      "  (2, 64433)\t1\n",
      "  (2, 78710)\t1\n",
      "  (3, 1590)\t1\n",
      "  (3, 57487)\t1\n",
      "  (3, 77034)\t1\n",
      "  (3, 4934)\t1\n",
      "  (3, 78124)\t1\n",
      "  (3, 60610)\t1\n",
      "  (3, 69202)\t1\n",
      "  (4, 1590)\t1\n",
      "  (4, 57487)\t1\n",
      "  (4, 78124)\t1\n",
      "  (4, 1120)\t1\n",
      "  (4, 4987)\t1\n",
      "  :\t:\n",
      "  (1244180, 66896)\t1\n",
      "  (1244180, 20256)\t1\n",
      "  (1244180, 13253)\t1\n",
      "  (1244180, 56093)\t1\n",
      "  (1244180, 73134)\t1\n",
      "  (1244180, 86693)\t1\n",
      "  (1244181, 87354)\t1\n",
      "  (1244181, 56093)\t1\n",
      "  (1244181, 15599)\t1\n",
      "  (1244181, 20803)\t1\n",
      "  (1244181, 17245)\t1\n",
      "  (1244181, 20659)\t1\n",
      "  (1244181, 932)\t1\n",
      "  (1244182, 88668)\t1\n",
      "  (1244182, 5659)\t1\n",
      "  (1244182, 63254)\t1\n",
      "  (1244182, 35916)\t1\n",
      "  (1244182, 20754)\t1\n",
      "  (1244182, 69127)\t1\n",
      "  (1244183, 56093)\t1\n",
      "  (1244183, 70357)\t1\n",
      "  (1244183, 48966)\t1\n",
      "  (1244183, 15599)\t1\n",
      "  (1244183, 17245)\t1\n",
      "  (1244183, 18241)\t1\n"
     ]
    }
   ],
   "source": [
    "print(text_counts)"
   ]
  },
  {
   "cell_type": "code",
   "execution_count": 70,
   "id": "2f758887",
   "metadata": {},
   "outputs": [
    {
     "name": "stdout",
     "output_type": "stream",
     "text": [
      "aba decides community broadcasting licence\n",
      "  (0, 41)\t1\n",
      "  (0, 20386)\t1\n",
      "  (0, 16513)\t1\n",
      "  (0, 10814)\t1\n",
      "  (0, 46768)\t1\n"
     ]
    }
   ],
   "source": [
    "print(data.iloc[0][7])\n",
    "print(text_counts[0])"
   ]
  },
  {
   "cell_type": "code",
   "execution_count": 71,
   "id": "bf4ddbe9",
   "metadata": {},
   "outputs": [],
   "source": [
    "#Splitting the data into trainig and testing - independent var = text_counts, dependant var = data[\"sentiment\"]\n",
    "from sklearn.model_selection import train_test_split\n",
    "\n",
    "X_train, X_test, Y_train, Y_test = train_test_split(text_counts, data[\"vader_sentiment\"], test_size=0.2, random_state=5)"
   ]
  },
  {
   "cell_type": "code",
   "execution_count": 72,
   "id": "0be0071d",
   "metadata": {},
   "outputs": [],
   "source": [
    "#Training the model\n",
    "\n",
    "from sklearn.naive_bayes import MultinomialNB\n"
   ]
  },
  {
   "cell_type": "code",
   "execution_count": 73,
   "id": "107b1f06",
   "metadata": {},
   "outputs": [
    {
     "data": {
      "text/html": [
       "<style>#sk-container-id-1 {color: black;background-color: white;}#sk-container-id-1 pre{padding: 0;}#sk-container-id-1 div.sk-toggleable {background-color: white;}#sk-container-id-1 label.sk-toggleable__label {cursor: pointer;display: block;width: 100%;margin-bottom: 0;padding: 0.3em;box-sizing: border-box;text-align: center;}#sk-container-id-1 label.sk-toggleable__label-arrow:before {content: \"▸\";float: left;margin-right: 0.25em;color: #696969;}#sk-container-id-1 label.sk-toggleable__label-arrow:hover:before {color: black;}#sk-container-id-1 div.sk-estimator:hover label.sk-toggleable__label-arrow:before {color: black;}#sk-container-id-1 div.sk-toggleable__content {max-height: 0;max-width: 0;overflow: hidden;text-align: left;background-color: #f0f8ff;}#sk-container-id-1 div.sk-toggleable__content pre {margin: 0.2em;color: black;border-radius: 0.25em;background-color: #f0f8ff;}#sk-container-id-1 input.sk-toggleable__control:checked~div.sk-toggleable__content {max-height: 200px;max-width: 100%;overflow: auto;}#sk-container-id-1 input.sk-toggleable__control:checked~label.sk-toggleable__label-arrow:before {content: \"▾\";}#sk-container-id-1 div.sk-estimator input.sk-toggleable__control:checked~label.sk-toggleable__label {background-color: #d4ebff;}#sk-container-id-1 div.sk-label input.sk-toggleable__control:checked~label.sk-toggleable__label {background-color: #d4ebff;}#sk-container-id-1 input.sk-hidden--visually {border: 0;clip: rect(1px 1px 1px 1px);clip: rect(1px, 1px, 1px, 1px);height: 1px;margin: -1px;overflow: hidden;padding: 0;position: absolute;width: 1px;}#sk-container-id-1 div.sk-estimator {font-family: monospace;background-color: #f0f8ff;border: 1px dotted black;border-radius: 0.25em;box-sizing: border-box;margin-bottom: 0.5em;}#sk-container-id-1 div.sk-estimator:hover {background-color: #d4ebff;}#sk-container-id-1 div.sk-parallel-item::after {content: \"\";width: 100%;border-bottom: 1px solid gray;flex-grow: 1;}#sk-container-id-1 div.sk-label:hover label.sk-toggleable__label {background-color: #d4ebff;}#sk-container-id-1 div.sk-serial::before {content: \"\";position: absolute;border-left: 1px solid gray;box-sizing: border-box;top: 0;bottom: 0;left: 50%;z-index: 0;}#sk-container-id-1 div.sk-serial {display: flex;flex-direction: column;align-items: center;background-color: white;padding-right: 0.2em;padding-left: 0.2em;position: relative;}#sk-container-id-1 div.sk-item {position: relative;z-index: 1;}#sk-container-id-1 div.sk-parallel {display: flex;align-items: stretch;justify-content: center;background-color: white;position: relative;}#sk-container-id-1 div.sk-item::before, #sk-container-id-1 div.sk-parallel-item::before {content: \"\";position: absolute;border-left: 1px solid gray;box-sizing: border-box;top: 0;bottom: 0;left: 50%;z-index: -1;}#sk-container-id-1 div.sk-parallel-item {display: flex;flex-direction: column;z-index: 1;position: relative;background-color: white;}#sk-container-id-1 div.sk-parallel-item:first-child::after {align-self: flex-end;width: 50%;}#sk-container-id-1 div.sk-parallel-item:last-child::after {align-self: flex-start;width: 50%;}#sk-container-id-1 div.sk-parallel-item:only-child::after {width: 0;}#sk-container-id-1 div.sk-dashed-wrapped {border: 1px dashed gray;margin: 0 0.4em 0.5em 0.4em;box-sizing: border-box;padding-bottom: 0.4em;background-color: white;}#sk-container-id-1 div.sk-label label {font-family: monospace;font-weight: bold;display: inline-block;line-height: 1.2em;}#sk-container-id-1 div.sk-label-container {text-align: center;}#sk-container-id-1 div.sk-container {/* jupyter's `normalize.less` sets `[hidden] { display: none; }` but bootstrap.min.css set `[hidden] { display: none !important; }` so we also need the `!important` here to be able to override the default hidden behavior on the sphinx rendered scikit-learn.org. See: https://github.com/scikit-learn/scikit-learn/issues/21755 */display: inline-block !important;position: relative;}#sk-container-id-1 div.sk-text-repr-fallback {display: none;}</style><div id=\"sk-container-id-1\" class=\"sk-top-container\"><div class=\"sk-text-repr-fallback\"><pre>MultinomialNB()</pre><b>In a Jupyter environment, please rerun this cell to show the HTML representation or trust the notebook. <br />On GitHub, the HTML representation is unable to render, please try loading this page with nbviewer.org.</b></div><div class=\"sk-container\" hidden><div class=\"sk-item\"><div class=\"sk-estimator sk-toggleable\"><input class=\"sk-toggleable__control sk-hidden--visually\" id=\"sk-estimator-id-1\" type=\"checkbox\" checked><label for=\"sk-estimator-id-1\" class=\"sk-toggleable__label sk-toggleable__label-arrow\">MultinomialNB</label><div class=\"sk-toggleable__content\"><pre>MultinomialNB()</pre></div></div></div></div></div>"
      ],
      "text/plain": [
       "MultinomialNB()"
      ]
     },
     "execution_count": 73,
     "metadata": {},
     "output_type": "execute_result"
    }
   ],
   "source": [
    "MNB = MultinomialNB()\n",
    "MNB.fit(X_train, Y_train)"
   ]
  },
  {
   "cell_type": "markdown",
   "id": "f12ac85e",
   "metadata": {},
   "source": [
    "Metrics will evaluate the model’s accuracy"
   ]
  },
  {
   "cell_type": "code",
   "execution_count": 74,
   "id": "56db1298",
   "metadata": {},
   "outputs": [
    {
     "name": "stdout",
     "output_type": "stream",
     "text": [
      "Accuracy Score:  0.8877297186511652\n"
     ]
    }
   ],
   "source": [
    "from sklearn import metrics\n",
    "\n",
    "predicted = MNB.predict(X_test)\n",
    "accuracy_score = metrics.accuracy_score(predicted, Y_test)\n",
    "print(\"Accuracy Score: \",accuracy_score)"
   ]
  },
  {
   "cell_type": "code",
   "execution_count": 75,
   "id": "00a032a2",
   "metadata": {},
   "outputs": [
    {
     "name": "stderr",
     "output_type": "stream",
     "text": [
      "No model was supplied, defaulted to distilbert-base-uncased-finetuned-sst-2-english and revision af0f99b (https://huggingface.co/distilbert-base-uncased-finetuned-sst-2-english).\n",
      "Using a pipeline without specifying a model name and revision in production is not recommended.\n",
      "All model checkpoint layers were used when initializing TFDistilBertForSequenceClassification.\n",
      "\n",
      "All the layers of TFDistilBertForSequenceClassification were initialized from the model checkpoint at distilbert-base-uncased-finetuned-sst-2-english.\n",
      "If your task is similar to the task the model of the checkpoint was trained on, you can already use TFDistilBertForSequenceClassification for predictions without further training.\n"
     ]
    }
   ],
   "source": [
    "from transformers import pipeline\n",
    "sentiment_pipeline = pipeline(\"sentiment-analysis\") # specified what we want to do: sent. nalysis\n"
   ]
  },
  {
   "cell_type": "markdown",
   "id": "26696f8e",
   "metadata": {},
   "source": [
    "In order to use the sentiment pipeline on chosen text lines, the loop below will create a list of headlines from the “lemmatized_text” feature and then will be changed to a data frame format to see the outcomes."
   ]
  },
  {
   "cell_type": "code",
   "execution_count": 76,
   "id": "868aeba7",
   "metadata": {},
   "outputs": [],
   "source": [
    "listt = []\n",
    "\n",
    "for i in data[\"lemmatized_text\"]:\n",
    "    listt.append(i)     "
   ]
  },
  {
   "cell_type": "code",
   "execution_count": 77,
   "id": "52ea1ebe",
   "metadata": {},
   "outputs": [],
   "source": [
    "vector = sentiment_pipeline(listt[:1000])"
   ]
  },
  {
   "cell_type": "code",
   "execution_count": 78,
   "id": "9f2a82a6",
   "metadata": {},
   "outputs": [],
   "source": [
    "#vector"
   ]
  },
  {
   "cell_type": "code",
   "execution_count": 79,
   "id": "df6b2143",
   "metadata": {},
   "outputs": [],
   "source": [
    "vector = pd.DataFrame(vector)"
   ]
  },
  {
   "cell_type": "code",
   "execution_count": 80,
   "id": "fa40496d",
   "metadata": {},
   "outputs": [
    {
     "data": {
      "text/plain": [
       "NEGATIVE    635\n",
       "POSITIVE    365\n",
       "Name: label, dtype: int64"
      ]
     },
     "execution_count": 80,
     "metadata": {},
     "output_type": "execute_result"
    }
   ],
   "source": [
    "vector[\"label\"].value_counts()"
   ]
  },
  {
   "cell_type": "code",
   "execution_count": 81,
   "id": "19a98dcd",
   "metadata": {},
   "outputs": [],
   "source": [
    "vector_2 = sentiment_pipeline(listt[::-1][:1000])"
   ]
  },
  {
   "cell_type": "code",
   "execution_count": 82,
   "id": "3e3cd2a2",
   "metadata": {},
   "outputs": [],
   "source": [
    "vector_2 = pd.DataFrame(vector_2)"
   ]
  },
  {
   "cell_type": "code",
   "execution_count": 83,
   "id": "269c6945",
   "metadata": {},
   "outputs": [
    {
     "data": {
      "text/plain": [
       "NEGATIVE    524\n",
       "POSITIVE    476\n",
       "Name: label, dtype: int64"
      ]
     },
     "execution_count": 83,
     "metadata": {},
     "output_type": "execute_result"
    }
   ],
   "source": [
    "vector_2[\"label\"].value_counts()"
   ]
  },
  {
   "cell_type": "markdown",
   "id": "25425ad3",
   "metadata": {},
   "source": [
    "#### Multinomial Naïve Baye outcome\n",
    "\n",
    "The final outcome of the Multinomial Naïve Bayes performed on the samples suggests that the headlines would hold mainly negative sentiment if the neutral sentiment class is declined."
   ]
  },
  {
   "cell_type": "markdown",
   "id": "1c974c71",
   "metadata": {},
   "source": [
    "#### Additional text insights\n",
    "\n",
    "Based on the performed analysis, the outcomes suggest that:\n",
    "\n",
    "* The headline text is mainly neutral.\n",
    "* Average word count across all headlines equals ~6.56.\n",
    "* Average number of various characters equals 4.13, where average word count per line equals 5.56.\n",
    "* 65440 headlines contain a numeric value.\n",
    "* By average, all headlines contain at least 1 stop word.\n"
   ]
  },
  {
   "cell_type": "code",
   "execution_count": null,
   "id": "1615dcb7",
   "metadata": {},
   "outputs": [],
   "source": []
  }
 ],
 "metadata": {
  "kernelspec": {
   "display_name": "Python 3 (ipykernel)",
   "language": "python",
   "name": "python3"
  },
  "language_info": {
   "codemirror_mode": {
    "name": "ipython",
    "version": 3
   },
   "file_extension": ".py",
   "mimetype": "text/x-python",
   "name": "python",
   "nbconvert_exporter": "python",
   "pygments_lexer": "ipython3",
   "version": "3.9.13"
  },
  "toc": {
   "base_numbering": 1,
   "nav_menu": {},
   "number_sections": true,
   "sideBar": true,
   "skip_h1_title": true,
   "title_cell": "Table of Contents",
   "title_sidebar": "Contents",
   "toc_cell": false,
   "toc_position": {},
   "toc_section_display": true,
   "toc_window_display": true
  }
 },
 "nbformat": 4,
 "nbformat_minor": 5
}
